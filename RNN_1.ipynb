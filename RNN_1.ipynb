{
 "cells": [
  {
   "cell_type": "code",
   "execution_count": 1,
   "metadata": {},
   "outputs": [],
   "source": [
    "from __future__ import print_function, division\n",
    "import torch\n",
    "import torch.nn as nn\n",
    "import torch.optim as optim\n",
    "from torch.autograd import Variable\n",
    "import numpy as np\n",
    "import torchvision\n",
    "from torchvision import datasets, models, transforms\n",
    "import matplotlib.pyplot as plt\n",
    "import time\n",
    "import copy\n",
    "import os\n",
    "import torch\n",
    "import torch.nn as nn\n",
    "import os\n",
    "import torchvision as tv\n",
    "from torchvision import transforms\n",
    "import matplotlib.pyplot as plt\n",
    "import torch.optim as optim\n",
    "from torch.optim import lr_scheduler\n",
    "from torch.autograd import Variable\n",
    "import numpy as np\n",
    "import time\n",
    "import copy\n",
    "from torch.optim import Adam\n",
    "plt.ion()  "
   ]
  },
  {
   "cell_type": "code",
   "execution_count": 2,
   "metadata": {},
   "outputs": [],
   "source": [
    "use_gpu = 0\n",
    "if use_gpu:\n",
    "    torch.cuda.set_device(CUDA_DEVICE)\n",
    "\n",
    "count=0"
   ]
  },
  {
   "cell_type": "code",
   "execution_count": 3,
   "metadata": {},
   "outputs": [
    {
     "name": "stdout",
     "output_type": "stream",
     "text": [
      "['\\x00', '\\x01', '\\x02', '\\x03', '\\x04', '\\x05', '\\x06', '\\x07', '\\x08', '\\t', '\\n', '\\x0b', '\\x0c', '\\r', '\\x0e', '\\x0f', '\\x10', '\\x11', '\\x12', '\\x13', '\\x14', '\\x15', '\\x16', '\\x17', '\\x18', '\\x19', '\\x1a', '\\x1b', '\\x1c', '\\x1d', '\\x1e', '\\x1f', ' ', '!', '\"', '#', '$', '%', '&', \"'\", '(', ')', '*', '+', ',', '-', '.', '/', '0', '1', '2', '3', '4', '5', '6', '7', '8', '9', ':', ';', '<', '=', '>', '?', '@', 'A', 'B', 'C', 'D', 'E', 'F', 'G', 'H', 'I', 'J', 'K', 'L', 'M', 'N', 'O', 'P', 'Q', 'R', 'S', 'T', 'U', 'V', 'W', 'X', 'Y', 'Z', '[', '\\\\', ']', '^', '_', '`', 'a', 'b', 'c', 'd', 'e', 'f', 'g', 'h', 'i', 'j', 'k', 'l', 'm', 'n', 'o', 'p', 'q', 'r', 's', 't', 'u', 'v', 'w', 'x', 'y', 'z', '{', '|', '}', '~', '\\x7f', '\\x80', '\\x81', '\\x82', '\\x83', '\\x84', '\\x85', '\\x86', '\\x87', '\\x88', '\\x89', '\\x8a', '\\x8b', '\\x8c', '\\x8d', '\\x8e', '\\x8f', '\\x90', '\\x91', '\\x92', '\\x93', '\\x94', '\\x95', '\\x96', '\\x97', '\\x98', '\\x99', '\\x9a', '\\x9b', '\\x9c', '\\x9d', '\\x9e', '\\x9f', '\\xa0', '¡', '¢', '£', '¤', '¥', '¦', '§', '¨', '©', 'ª', '«', '¬', '\\xad', '®', '¯', '°', '±', '²', '³', '´', 'µ', '¶', '·', '¸', '¹', 'º', '»', '¼', '½', '¾', '¿', 'À', 'Á', 'Â', 'Ã', 'Ä', 'Å', 'Æ', 'Ç', 'È', 'É', 'Ê', 'Ë', 'Ì', 'Í', 'Î', 'Ï', 'Ð', 'Ñ', 'Ò', 'Ó', 'Ô', 'Õ', 'Ö', '×', 'Ø', 'Ù', 'Ú', 'Û', 'Ü', 'Ý', 'Þ', 'ß', 'à', 'á', 'â', 'ã', 'ä', 'å', 'æ', 'ç', 'è', 'é', 'ê', 'ë', 'ì', 'í', 'î', 'ï', 'ð', 'ñ', 'ò', 'ó', 'ô', 'õ', 'ö', '÷', 'ø', 'ù', 'ú', 'û', 'ü', 'ý', 'þ', 'ÿ']\n",
      "256\n"
     ]
    }
   ],
   "source": [
    "char = 'A'\n",
    "class_names = [chr(i) for i in range(0,256)]\n",
    "print(class_names)\n",
    "print(len(class_names))"
   ]
  },
  {
   "cell_type": "code",
   "execution_count": 4,
   "metadata": {},
   "outputs": [],
   "source": [
    "#load data\n",
    "data_folder = \"RNN\"\n",
    "file = open(\"C:/Users/Gayatri Narang/Documents/682/autoproject/RNN/data2.txt\", 'r')\n",
    "data = file.read().replace('\\n', ' ').upper()\n",
    "data = ' '+data+' '"
   ]
  },
  {
   "cell_type": "code",
   "execution_count": 5,
   "metadata": {},
   "outputs": [
    {
     "name": "stdout",
     "output_type": "stream",
     "text": [
      " VACCINES ARE ONE OF THE GREAT SUCCESS STORIES OF MODERN MEDICINE. BECAUSE OF THEM WE ARE NO LONGER VULNERABLE TO SMALLPOX OR POLIO OR MEASLES. THE FLU VACCINE, HOWEVER, IS A DIFFERENT STORY. ITS EFFECTIVENESS VARIES FROM PATIENT TO PATIENT, FROM POPULATION TO POPULATION, AND FROM YEAR TO YEAR. IT NEEDS TO BE UPDATED EACH SEASON, AND EVEN IN A GOOD YEAR IS USUALLY NO MORE THAN 50% EFFECTIVE. WE MAY RELY ON IT TO AVOID CATCHING THE FLU, BUT ITS STORY DEMONSTRATES HOW FAR WE STILL ARE FROM A RELIABLE VACCINE. LOSE YOURSELF IN A GREAT STORY: SIGN UP FOR THE LONG READ EMAIL VACCINATION, THE PROCESS OF INFECTING A HEALTHY PERSON WITH A MICROBE TO PREVENT DISEASE, DATES BACK AT LEAST A THOUSAND YEARS. BUT THE START OF VACCINATION AS WE THINK OF IT TODAY IS GENERALLY CREDITED TO THE WORK OF EDWARD JENNER, A BRITISH PHYSICIAN BORN IN 1749. JENNER WAS A KEEN OBSERVER WITH A DEEP INTEREST IN THE NATURAL WORLD, AND FOUND TIME FOR BOTH SERIOUS STUDY AND ARTISTIC PLAY. HE INVESTIGATED EVERYTHING FROM HYDROGEN BALLOONS TO THE LIFE CYCLE OF THE CUCKOO, WROTE POETRY AND PLAYED THE VIOLIN, BUT SMALLPOX OR RATHER, THE ERADICATION OF IT IS HIS LEGACY. BECAUSE OF JENNER, THIS VIRUS IS NOT ON OUR LIST OF WORRIES TODAY.  SMALLPOX WAS A VICIOUS DISEASE THAT KILLED MORE THAN 30% OF THOSE WHO CONTRACTED IT. IN THE 1700S, THERE WAS ONE DEMOGRAPHIC, HOWEVER, THAT SEEMED TO BE IMMUNE: MILKMAIDS. IT HAD BEEN OBSERVED THAT IN THE COURSE OF THEIR JOB MILKING COWS, WOMEN CAME INTO CONTACT WITH THE MILDER BOVINE VERSION OF THE SMALLPOX VIRUS, CALLED COWPOX.  THESE WOMEN THEN BECAME IMMUNE TO THE DEADLIER HUMAN SMALLPOX VIRUS. THERE WAS SOMETHING IN THE COWPOX THAT PROTECTED AGAINST SMALLPOX, AND IN 1796 EDWARD JENNER FAMOUSLY TOOK MATERIAL FROM THE FRESH PUSTULES ON A MILKMAIDS HAND AND INSERTED IT UNDER THE SKIN OF A YOUNG BOY NAMED JAMES PHIPPS. AFTER A BRIEF AND MILD ILLNESS, PHIPPS RECOVERED COMPLETELY. JENNER THEN INFECTED HIM WITH SCRAPINGS FROM A SMALLPOX LESION, AGAIN AND AGAIN, BUT THE BOY NEVER GOT SICK. JENNER NAMED THIS PROCESS VACCINATION AFTER VARIOLAE VACCINAE, A LATIN TERM FOR COWPOX. HIS TECHNIQUE QUICKLY SPREAD THROUGH 19TH-CENTURY ENGLAND AND BEYOND, SAVING COUNTLESS PEOPLE, INSPIRING MODIFICATIONS TO THE TECHNIQUE AND CHANGING THE COURSE OF HISTORY.  ADVERTISEMENT  JENNERS SMALLPOX VACCINE WAS IMPROVED AND MODIFIED OVER THE NEXT SEVERAL DECADES, AND WAS SOON JOINED BY OTHERS. LOUIS PASTEUR DEVELOPED VACCINES FOR ANIMAL DISEASES SUCH AS CHICKEN CHOLERA AND ANTHRAX, BUT OF THESE HE IS BEST REMEMBERED FOR HIS RABIES VACCINE. RABIES WAS A COMMON AND UNIFORMLY FATAL DISEASE IN THE 19TH CENTURY. ONCE A VICTIM IS BITTEN BY A RABID ANIMAL, THE VIRUS MULTIPLIES SLOWLY AND INFECTS THE BRAIN AND NERVOUS SYSTEM. PASTEUR DID NOT KNOW OF THE VIRAL CAUSE, BUT THIS DIDNT REALLY MATTER. HE DISSECTED AND DRIED OUT THE SPINAL CORDS OF INFECTED ANIMALS AND THEN INJECTED THE REMAINS INTO TEST ANIMALS, WHICH THEN SHOWED IMMUNITY TO RABIES. WHAT PASTEUR WAS DOING WAS, IN FACT, WEAKENING THE VIRUS, MAKING IT A GOLDILOCKS VERSION. IT WAS NOT STRONG ENOUGH TO KILL, AND IT WAS NOT WEAK ENOUGH TO BE IGNORED BY OUR IMMUNE SYSTEM.  ONE HUNDRED YEARS AGO, DURING THE 1918 FLU PANDEMIC, THERE WERE NO FLU VACCINES. WE DIDNT KNOW PRECISELY WHAT WAS CAUSING THE DISEASE, SO WE COULDNT MANUFACTURE A VACCINE TO PROTECT US. BUT THIS DIDNT STOP SCIENTISTS AND DOCTORS FROM DOING SOMETHING, ANYTHING, TO COMBAT THE OUTBREAK. IN 1919 EDWARD ROSENOW FROM THE MAYO CLINIC IN ROCHESTER, MINNESOTA, ISOLATED SEVERAL BACTERIA FROM THE SPUTUM AND LUNGS OF FLU PATIENTS IN ROCHESTER, FORMULATED A VACCINE THAT CONTAINED FIVE DIFFERENT KINDS OF BACTERIA, AND DOLED IT OUT TO 100,000 PEOPLE. AT TUFTS COLLEGE MEDICAL SCHOOL IN BOSTON, TIMOTHY LEARY (WHOSE NEPHEW AND NAMESAKE WOULD ALSO BECOME A DOCTOR AND EXPERIMENT WITH PSYCHEDELICS) PRODUCED HIS OWN BLENDED VACCINE USING STRAINS FROM THE CHELSEA NAVAL HOSPITAL, A NURSES NOSE AT CARNEY HOSPITAL AND THE INFECTED WARDS OF CAMP DEVENS. LEARY MIXED THESE SAMPLES TOGETHER, GREW THEM ON PLATES OF AGAR AND THEN STERILISED THE MIXTURE. HIS VACCINE WAS SENT TO SAN FRANCISCO, WHERE AT LEAST 18,000 PEOPLE WERE INOCULATED WITH IT.  ADVERTISEMENT  THESE AND OTHER EFFORTS GAVE HOPE TO A RAVAGED NATION. ONE HEALTH OFFICIAL AT THE TIME WROTE THAT THE GREATEST VALUE OF A FLU VACCINE WAS THAT IT REDUCED FLUPHOBIA. WORRY AND FEAR WERE AS QUICK TO SPREAD AS THE DISEASE ITSELF, AND ANY VACCINE THAT PROVIDED AT LEAST MENTAL RELIEF WAS WELCOME. THERE WAS NO EVIDENCE, OF COURSE, THAT ANY OF THESE VACCINES ACTUALLY WORKED. TODAY, PHYSICIANS GO TO GREAT LENGTHS TO BE SURE THAT VACCINE TRIALS ADHERE TO STRINGENT STANDARDS, BUT A CENTURY AGO THESE DID NOT EXIST. MANY OF THE VACCINE TRIALS WERE CONDUCTED ON SURVIVORS OF THE FLU, AFTER THE INITIAL EPIDEMIC HAD PASSED, MEANING THAT THE POOL WAS TAINTED WITH A DEGREE OF IMMUNITY.  IN 1933 THE FLU VIRUS WAS IDENTIFIED, AND SCIENTISTS COULD THEN CONFRONT THE CULPRIT RATHER THAN THE MESS IN ITS WAKE. RUSSIANS LED THE FIELD, WEAKENING THE VIRUS BY TRANSPLANTING IT BETWEEN CHICKEN EGGS. AROUND ONE BILLION PEOPLE IN THE USSR WERE VACCINATED USING THE LIVE BUT WEAKENED FLU VIRUS, AND IT WAS STILL IN USE AT THE END OF THE 20TH CENTURY. ALTHOUGH IT APPEARED TO BE SUCCESSFUL, THE LIVE-FLU VACCINE WAS NEVER TESTED IN A RIGOROUS WAY, AND IT REMAINED A CONSTANT DANGER. SINCE IT USED A LIVE VIRUS, IT COULD CROSS WITH OTHER STRAINS AND MORPH INTO A MORE VIRULENT VERSION.  VACCINE RESEARCHERS THEREFORE TURNED THEIR ATTENTION TO CREATING A VACCINE CONTAINING WHAT THEY CALLED INACTIVE STRAINS. THE VIRUS WAS STILL GROWN IN CHICK EMBRYOS, BUT THIS TIME IT WAS RENDERED INACTIVE BY DUNKING IT IN A BATH OF FORMALIN DISINFECTANT. ALTHOUGH A HIGHER DOSE OF THE INACTIVE VACCINE WAS NEEDED TO PRODUCE AN IMMUNE RESPONSE, THERE WAS NO CONCERN ABOUT THE VIRUS REPLICATING.  FOR THE FIRST SEVERAL YEARS THE INFLUENZA VACCINE CONTAINED ONLY ONE STRAIN, THE INFLUENZA A VIRUS, BECAUSE, AS FAR AS ANYONE KNEW, THAT WAS THE ONLY KIND OF INFLUENZA OUT THERE. IN 1940 INFLUENZA B WAS IDENTIFIED, WHICH KICKED OFF THE PERPETUAL TASK OF CALIBRATING VACCINES TO DEAL WITH MULTIPLE EVOLVING STRAINS. BY THE 1950S WE HAD A VACCINE THAT WAS EFFECTIVE AGAINST BOTH A AND B, BUT THE VIRUS, AS ALWAYS, WAS OUTPACING US. BY THE LATE 1970S WE HAD TO MAKE A VACCINE TO HIT THREE STRAINS. FOR THE 20167 FLU SEASON, MOST OF THE VACCINE DOSES MANUFACTURED IN THE US TARGETED FOUR DIFFERENT STRAINS. THE PAST 100 YEARS HAVE BEEN A CEASELESS ARMS RACE AGAINST AN ENEMY WITH WHOM WE CANNOT NEGOTIATE.  THE KEY TO A GOOD FLU VACCINE IS MATCHING IT TO THE STRAINS THAT ARE IN CIRCULATION DURING A GIVEN SEASON. THE CHALLENGE IS THAT IT TAKES ABOUT SIX MONTHS TO PRODUCE THE VACCINE, AND SO THE MANUFACTURERS HAVE TO BASE THEIR INGREDIENTS ON SOME CLEVER DETECTIVE WORK LED BY THE WORLD HEALTH ORGANIZATION.  THERE ARE ABOUT 110 WHO FLU CENTRES IN 80 COUNTRIES THAT RECEIVE SWABS FROM THE NOSES AND THROATS OF PATIENTS WITH INFLUENZA LIKE ILLNESSES. THESE CENTRES IDENTIFY THE FLU STRAINS THAT ARE CIRCULATING, AND OCCASIONALLY THEY WILL FIND A NEW ONE. WHEN THIS HAPPENS, THEY SEND IT TO ONE OF FIVE COLLABORATING CENTRES, IN LONDON, ATLANTA, MELBOURNE, TOKYO AND BEIJING, FOR A MORE DETAILED MOLECULAR ANALYSIS. TWICE A YEAR (IN FEBRUARY FOR THE NORTHERN HEMISPHERE, AND SEPTEMBER FOR THE SOUTHERN) THE WHO CONVENES A MEETING TO COLLATE ALL THE INFORMATION AND RECOMMEND A VACCINE RECIPE FOR THE UPCOMING SEASON. IN THE US, THE CENTERS FOR DISEASE CONTROL AND PREVENTION (CDC) IN ATLANTA PROVIDE ADDITIONAL DOMESTIC DATA, AND THE FOOD AND DRUG ADMINISTRATION MAKES A FINAL DECISION ON WHAT GOES INTO THE VACCINE. THE MANUFACTURERS THEN HAVE ABOUT SIX MONTHS TO GET THE RECOMMENDED FLU VACCINE TO MARKET.   \n"
     ]
    }
   ],
   "source": [
    "import string\n",
    "printable = set(string.printable)\n",
    "data = (list(filter(lambda x: x in printable, data)))\n",
    "data = (\"\").join(data)\n",
    "print(data)"
   ]
  },
  {
   "cell_type": "code",
   "execution_count": 6,
   "metadata": {},
   "outputs": [
    {
     "name": "stdout",
     "output_type": "stream",
     "text": [
      " VACCINES ARE ONE OF THE GREAT SUCCESS STORIES OF MODERN MEDICINE. BECAUSE OF THEM WE ARE NO LONGER VULNERABLE TO SMALLPOX OR POLIO OR MEASLES. THE FLU VACCINE, HOWEVER, IS A DIFFERENT STORY. ITS EFFECTIVENESS VARIES FROM PATIENT TO PATIENT, FROM POPULATION TO POPULATION, AND FROM YEAR TO YEAR. IT NEEDS TO BE UPDATED EACH SEASON, AND EVEN IN A GOOD YEAR IS USUALLY NO MORE THAN 50% EFFECTIVE. WE MAY RELY ON IT TO AVOID CATCHING THE FLU, BUT ITS STORY DEMONSTRATES HOW FAR WE STILL ARE FROM A RELIABLE VACCINE. LOSE YOURSELF IN A GREAT STORY: SIGN UP FOR THE LONG READ EMAIL VACCINATION, THE PROCESS OF INFECTING A HEALTHY PERSON WITH A MICROBE TO PREVENT DISEASE, DATES BACK AT LEAST A THOUSAND YEARS. BUT THE START OF VACCINATION AS WE THINK OF IT TODAY IS GENERALLY CREDITED TO THE WORK OF EDWARD JENNER, A BRITISH PHYSICIAN BORN IN 1749. JENNER WAS A KEEN OBSERVER WITH A DEEP INTEREST IN THE NATURAL WORLD, AND FOUND TIME FOR BOTH SERIOUS STUDY AND ARTISTIC PLAY. HE INVESTIGATED EVERYTHING FROM HYDROGEN BALLOONS TO THE LIFE CYCLE OF THE CUCKOO, WROTE POETRY AND PLAYED THE VIOLIN, BUT SMALLPOX OR RATHER, THE ERADICATION OF IT IS HIS LEGACY. BECAUSE OF JENNER, THIS VIRUS IS NOT ON OUR LIST OF WORRIES TODAY.  SMALLPOX WAS A VICIOUS DISEASE THAT KILLED MORE THAN 30% OF THOSE WHO CONTRACTED IT. IN THE 1700S, THERE WAS ONE DEMOGRAPHIC, HOWEVER, THAT SEEMED TO BE IMMUNE: MILKMAIDS. IT HAD BEEN OBSERVED THAT IN THE COURSE OF THEIR JOB MILKING COWS, WOMEN CAME INTO CONTACT WITH THE MILDER BOVINE VERSION OF THE SMALLPOX VIRUS, CALLED COWPOX.  THESE WOMEN THEN BECAME IMMUNE TO THE DEADLIER HUMAN SMALLPOX VIRUS. THERE WAS SOMETHING IN THE COWPOX THAT PROTECTED AGAINST SMALLPOX, AND IN 1796 EDWARD JENNER FAMOUSLY TOOK MATERIAL FROM THE FRESH PUSTULES ON A MILKMAIDS HAND AND INSERTED IT UNDER THE SKIN OF A YOUNG BOY NAMED JAMES PHIPPS. AFTER A BRIEF AND MILD ILLNESS, PHIPPS RECOVERED COMPLETELY. JENNER THEN INFECTED HIM WITH SCRAPINGS FROM A SMALLPOX LESION, AGAIN AND AGAIN, BUT THE BOY NEVER GOT SICK. JENNER NAMED THIS PROCESS VACCINATION AFTER VARIOLAE VACCINAE, A LATIN TERM FOR COWPOX. HIS TECHNIQUE QUICKLY SPREAD THROUGH 19TH-CENTURY ENGLAND AND BEYOND, SAVING COUNTLESS PEOPLE, INSPIRING MODIFICATIONS TO THE TECHNIQUE AND CHANGING THE COURSE OF HISTORY.  ADVERTISEMENT  JENNERS SMALLPOX VACCINE WAS IMPROVED AND MODIFIED OVER THE NEXT SEVERAL DECADES, AND WAS SOON JOINED BY OTHERS. LOUIS PASTEUR DEVELOPED VACCINES FOR ANIMAL DISEASES SUCH AS CHICKEN CHOLERA AND ANTHRAX, BUT OF THESE HE IS BEST REMEMBERED FOR HIS RABIES VACCINE. RABIES WAS A COMMON AND UNIFORMLY FATAL DISEASE IN THE 19TH CENTURY. ONCE A VICTIM IS BITTEN BY A RABID ANIMAL, THE VIRUS MULTIPLIES SLOWLY AND INFECTS THE BRAIN AND NERVOUS SYSTEM. PASTEUR DID NOT KNOW OF THE VIRAL CAUSE, BUT THIS DIDNT REALLY MATTER. HE DISSECTED AND DRIED OUT THE SPINAL CORDS OF INFECTED ANIMALS AND THEN INJECTED THE REMAINS INTO TEST ANIMALS, WHICH THEN SHOWED IMMUNITY TO RABIES. WHAT PASTEUR WAS DOING WAS, IN FACT, WEAKENING THE VIRUS, MAKING IT A GOLDILOCKS VERSION. IT WAS NOT STRONG ENOUGH TO KILL, AND IT WAS NOT WEAK ENOUGH TO BE IGNORED BY OUR IMMUNE SYSTEM.  ONE HUNDRED YEARS AGO, DURING THE 1918 FLU PANDEMIC, THERE WERE NO FLU VACCINES. WE DIDNT KNOW PRECISELY WHAT WAS CAUSING THE DISEASE, SO WE COULDNT MANUFACTURE A VACCINE TO PROTECT US. BUT THIS DIDNT STOP SCIENTISTS AND DOCTORS FROM DOING SOMETHING, ANYTHING, TO COMBAT THE OUTBREAK. IN 1919 EDWARD ROSENOW FROM THE MAYO CLINIC IN ROCHESTER, MINNESOTA, ISOLATED SEVERAL BACTERIA FROM THE SPUTUM AND LUNGS OF FLU PATIENTS IN ROCHESTER, FORMULATED A VACCINE THAT CONTAINED FIVE DIFFERENT KINDS OF BACTERIA, AND DOLED IT OUT TO 100,000 PEOPLE. AT TUFTS COLLEGE MEDICAL SCHOOL IN BOSTON, TIMOTHY LEARY (WHOSE NEPHEW AND NAMESAKE WOULD ALSO BECOME A DOCTOR AND EXPERIMENT WITH PSYCHEDELICS) PRODUCED HIS OWN BLENDED VACCINE USING STRAINS FROM THE CHELSEA NAVAL HOSPITAL, A NURSES NOSE AT CARNEY HOSPITAL AND THE INFECTED WARDS OF CAMP DEVENS. LEARY MIXED THESE SAMPLES TOGETHER, GREW THEM ON PLATES OF AGAR AND THEN STERILISED THE MIXTURE. HIS VACCINE WAS SENT TO SAN FRANCISCO, WHERE AT LEAST 18,000 PEOPLE WERE INOCULATED WITH IT.  ADVERTISEMENT  THESE AND OTHER EFFORTS GAVE HOPE TO A RAVAGED NATION. ONE HEALTH OFFICIAL AT THE TIME WROTE THAT THE GREATEST VALUE OF A FLU VACCINE WAS THAT IT REDUCED FLUPHOBIA. WORRY AND FEAR WERE AS QUICK TO SPREAD AS THE DISEASE ITSELF, AND ANY VACCINE THAT PROVIDED AT LEAST MENTAL RELIEF WAS WELCOME. THERE WAS NO EVIDENCE, OF COURSE, THAT ANY OF THESE VACCINES ACTUALLY WORKED. TODAY, PHYSICIANS GO TO GREAT LENGTHS TO BE SURE THAT VACCINE TRIALS ADHERE TO STRINGENT STANDARDS, BUT A CENTURY AGO THESE DID NOT EXIST. MANY OF THE VACCINE TRIALS WERE CONDUCTED ON SURVIVORS OF THE FLU, AFTER THE INITIAL EPIDEMIC HAD PASSED, MEANING THAT THE POOL WAS TAINTED WITH A DEGREE OF IMMUNITY.  IN 1933 THE FLU VIRUS WAS IDENTIFIED, AND SCIENTISTS COULD THEN CONFRONT THE CULPRIT RATHER THAN THE MESS IN ITS WAKE. RUSSIANS LED THE FIELD, WEAKENING THE VIRUS BY TRANSPLANTING IT BETWEEN CHICKEN EGGS. AROUND ONE BILLION PEOPLE IN THE USSR WERE VACCINATED USING THE LIVE BUT WEAKENED FLU VIRUS, AND IT WAS STILL IN USE AT THE END OF THE 20TH CENTURY. ALTHOUGH IT APPEARED TO BE SUCCESSFUL, THE LIVE-FLU VACCINE WAS NEVER TESTED IN A RIGOROUS WAY, AND IT REMAINED A CONSTANT DANGER. SINCE IT USED A LIVE VIRUS, IT COULD CROSS WITH OTHER STRAINS AND MORPH INTO A MORE VIRULENT VERSION.  VACCINE RESEARCHERS THEREFORE TURNED THEIR ATTENTION TO CREATING A VACCINE CONTAINING WHAT THEY CALLED INACTIVE STRAINS. THE VIRUS WAS STILL GROWN IN CHICK EMBRYOS, BUT THIS TIME IT WAS RENDERED INACTIVE BY DUNKING IT IN A BATH OF FORMALIN DISINFECTANT. ALTHOUGH A HIGHER DOSE OF THE INACTIVE VACCINE WAS NEEDED TO PRODUCE AN IMMUNE RESPONSE, THERE WAS NO CONCERN ABOUT THE VIRUS REPLICATING.  FOR THE FIRST SEVERAL YEARS THE INFLUENZA VACCINE CONTAINED ONLY ONE STRAIN, THE INFLUENZA A VIRUS, BECAUSE, AS FAR AS ANYONE KNEW, THAT WAS THE ONLY KIND OF INFLUENZA OUT THERE. IN 1940 INFLUENZA B WAS IDENTIFIED, WHICH KICKED OFF THE PERPETUAL TASK OF CALIBRATING VACCINES TO DEAL WITH MULTIPLE EVOLVING STRAINS. BY THE 1950S WE HAD A VACCINE THAT WAS EFFECTIVE AGAINST BOTH A AND B, BUT THE VIRUS, AS ALWAYS, WAS OUTPACING US. BY THE LATE 1970S WE HAD TO MAKE A VACCINE TO HIT THREE STRAINS. FOR THE 20167 FLU SEASON, MOST OF THE VACCINE DOSES MANUFACTURED IN THE US TARGETED FOUR DIFFERENT STRAINS. THE PAST 100 YEARS HAVE BEEN A CEASELESS ARMS RACE AGAINST AN ENEMY WITH WHOM WE CANNOT NEGOTIATE.  THE KEY TO A GOOD FLU VACCINE IS MATCHING IT TO THE STRAINS THAT ARE IN CIRCULATION DURING A GIVEN SEASON. THE CHALLENGE IS THAT IT TAKES ABOUT SIX MONTHS TO PRODUCE THE VACCINE, AND SO THE MANUFACTURERS HAVE TO BASE THEIR INGREDIENTS ON SOME CLEVER DETECTIVE WORK LED BY THE WORLD HEALTH ORGANIZATION.  THERE ARE ABOUT 110 WHO FLU CENTRES IN 80 COUNTRIES THAT RECEIVE SWABS FROM THE NOSES AND THROATS OF PATIENTS WITH INFLUENZA LIKE ILLNESSES. THESE CENTRES IDENTIFY THE FLU STRAINS THAT ARE CIRCULATING, AND OCCASIONALLY THEY WILL FIND A NEW ONE. WHEN THIS HAPPENS, THEY SEND IT TO ONE OF FIVE COLLABORATING CENTRES, IN LONDON, ATLANTA, MELBOURNE, TOKYO AND BEIJING, FOR A MORE DETAILED MOLECULAR ANALYSIS. TWICE A YEAR (IN FEBRUARY FOR THE NORTHERN HEMISPHERE, AND SEPTEMBER FOR THE SOUTHERN) THE WHO CONVENES A MEETING TO COLLATE ALL THE INFORMATION AND RECOMMEND A VACCINE RECIPE FOR THE UPCOMING SEASON. IN THE US, THE CENTERS FOR DISEASE CONTROL AND PREVENTION (CDC) IN ATLANTA PROVIDE ADDITIONAL DOMESTIC DATA, AND THE FOOD AND DRUG ADMINISTRATION MAKES A FINAL DECISION ON WHAT GOES INTO THE VACCINE. THE MANUFACTURERS THEN HAVE ABOUT SIX MONTHS TO GET THE RECOMMENDED FLU VACCINE TO MARKET.   \n"
     ]
    }
   ],
   "source": [
    "#data = data.encode('ascii',errors='ignore')\n",
    "print(data)"
   ]
  },
  {
   "cell_type": "code",
   "execution_count": 7,
   "metadata": {},
   "outputs": [],
   "source": [
    "def to_categorical(y, num_classes):\n",
    "    \"\"\" 1-hot encodes a tensor \"\"\"\n",
    "    return ( torch.from_numpy(np.eye(num_classes)[y]))"
   ]
  },
  {
   "cell_type": "code",
   "execution_count": 8,
   "metadata": {},
   "outputs": [],
   "source": [
    "vocab_ind = {}\n",
    "ind_vocab = {}\n",
    "for (index, letter) in enumerate(class_names):\n",
    "    vocab_ind[letter] = index\n",
    "    ind_vocab[index] = letter\n",
    "# vocab_ind[\" \"] = index+1\n",
    "# ind_vocab[index+1] = \" \""
   ]
  },
  {
   "cell_type": "code",
   "execution_count": 9,
   "metadata": {},
   "outputs": [
    {
     "name": "stdout",
     "output_type": "stream",
     "text": [
      "{'\\x00': 0, '\\x01': 1, '\\x02': 2, '\\x03': 3, '\\x04': 4, '\\x05': 5, '\\x06': 6, '\\x07': 7, '\\x08': 8, '\\t': 9, '\\n': 10, '\\x0b': 11, '\\x0c': 12, '\\r': 13, '\\x0e': 14, '\\x0f': 15, '\\x10': 16, '\\x11': 17, '\\x12': 18, '\\x13': 19, '\\x14': 20, '\\x15': 21, '\\x16': 22, '\\x17': 23, '\\x18': 24, '\\x19': 25, '\\x1a': 26, '\\x1b': 27, '\\x1c': 28, '\\x1d': 29, '\\x1e': 30, '\\x1f': 31, ' ': 32, '!': 33, '\"': 34, '#': 35, '$': 36, '%': 37, '&': 38, \"'\": 39, '(': 40, ')': 41, '*': 42, '+': 43, ',': 44, '-': 45, '.': 46, '/': 47, '0': 48, '1': 49, '2': 50, '3': 51, '4': 52, '5': 53, '6': 54, '7': 55, '8': 56, '9': 57, ':': 58, ';': 59, '<': 60, '=': 61, '>': 62, '?': 63, '@': 64, 'A': 65, 'B': 66, 'C': 67, 'D': 68, 'E': 69, 'F': 70, 'G': 71, 'H': 72, 'I': 73, 'J': 74, 'K': 75, 'L': 76, 'M': 77, 'N': 78, 'O': 79, 'P': 80, 'Q': 81, 'R': 82, 'S': 83, 'T': 84, 'U': 85, 'V': 86, 'W': 87, 'X': 88, 'Y': 89, 'Z': 90, '[': 91, '\\\\': 92, ']': 93, '^': 94, '_': 95, '`': 96, 'a': 97, 'b': 98, 'c': 99, 'd': 100, 'e': 101, 'f': 102, 'g': 103, 'h': 104, 'i': 105, 'j': 106, 'k': 107, 'l': 108, 'm': 109, 'n': 110, 'o': 111, 'p': 112, 'q': 113, 'r': 114, 's': 115, 't': 116, 'u': 117, 'v': 118, 'w': 119, 'x': 120, 'y': 121, 'z': 122, '{': 123, '|': 124, '}': 125, '~': 126, '\\x7f': 127, '\\x80': 128, '\\x81': 129, '\\x82': 130, '\\x83': 131, '\\x84': 132, '\\x85': 133, '\\x86': 134, '\\x87': 135, '\\x88': 136, '\\x89': 137, '\\x8a': 138, '\\x8b': 139, '\\x8c': 140, '\\x8d': 141, '\\x8e': 142, '\\x8f': 143, '\\x90': 144, '\\x91': 145, '\\x92': 146, '\\x93': 147, '\\x94': 148, '\\x95': 149, '\\x96': 150, '\\x97': 151, '\\x98': 152, '\\x99': 153, '\\x9a': 154, '\\x9b': 155, '\\x9c': 156, '\\x9d': 157, '\\x9e': 158, '\\x9f': 159, '\\xa0': 160, '¡': 161, '¢': 162, '£': 163, '¤': 164, '¥': 165, '¦': 166, '§': 167, '¨': 168, '©': 169, 'ª': 170, '«': 171, '¬': 172, '\\xad': 173, '®': 174, '¯': 175, '°': 176, '±': 177, '²': 178, '³': 179, '´': 180, 'µ': 181, '¶': 182, '·': 183, '¸': 184, '¹': 185, 'º': 186, '»': 187, '¼': 188, '½': 189, '¾': 190, '¿': 191, 'À': 192, 'Á': 193, 'Â': 194, 'Ã': 195, 'Ä': 196, 'Å': 197, 'Æ': 198, 'Ç': 199, 'È': 200, 'É': 201, 'Ê': 202, 'Ë': 203, 'Ì': 204, 'Í': 205, 'Î': 206, 'Ï': 207, 'Ð': 208, 'Ñ': 209, 'Ò': 210, 'Ó': 211, 'Ô': 212, 'Õ': 213, 'Ö': 214, '×': 215, 'Ø': 216, 'Ù': 217, 'Ú': 218, 'Û': 219, 'Ü': 220, 'Ý': 221, 'Þ': 222, 'ß': 223, 'à': 224, 'á': 225, 'â': 226, 'ã': 227, 'ä': 228, 'å': 229, 'æ': 230, 'ç': 231, 'è': 232, 'é': 233, 'ê': 234, 'ë': 235, 'ì': 236, 'í': 237, 'î': 238, 'ï': 239, 'ð': 240, 'ñ': 241, 'ò': 242, 'ó': 243, 'ô': 244, 'õ': 245, 'ö': 246, '÷': 247, 'ø': 248, 'ù': 249, 'ú': 250, 'û': 251, 'ü': 252, 'ý': 253, 'þ': 254, 'ÿ': 255} {0: '\\x00', 1: '\\x01', 2: '\\x02', 3: '\\x03', 4: '\\x04', 5: '\\x05', 6: '\\x06', 7: '\\x07', 8: '\\x08', 9: '\\t', 10: '\\n', 11: '\\x0b', 12: '\\x0c', 13: '\\r', 14: '\\x0e', 15: '\\x0f', 16: '\\x10', 17: '\\x11', 18: '\\x12', 19: '\\x13', 20: '\\x14', 21: '\\x15', 22: '\\x16', 23: '\\x17', 24: '\\x18', 25: '\\x19', 26: '\\x1a', 27: '\\x1b', 28: '\\x1c', 29: '\\x1d', 30: '\\x1e', 31: '\\x1f', 32: ' ', 33: '!', 34: '\"', 35: '#', 36: '$', 37: '%', 38: '&', 39: \"'\", 40: '(', 41: ')', 42: '*', 43: '+', 44: ',', 45: '-', 46: '.', 47: '/', 48: '0', 49: '1', 50: '2', 51: '3', 52: '4', 53: '5', 54: '6', 55: '7', 56: '8', 57: '9', 58: ':', 59: ';', 60: '<', 61: '=', 62: '>', 63: '?', 64: '@', 65: 'A', 66: 'B', 67: 'C', 68: 'D', 69: 'E', 70: 'F', 71: 'G', 72: 'H', 73: 'I', 74: 'J', 75: 'K', 76: 'L', 77: 'M', 78: 'N', 79: 'O', 80: 'P', 81: 'Q', 82: 'R', 83: 'S', 84: 'T', 85: 'U', 86: 'V', 87: 'W', 88: 'X', 89: 'Y', 90: 'Z', 91: '[', 92: '\\\\', 93: ']', 94: '^', 95: '_', 96: '`', 97: 'a', 98: 'b', 99: 'c', 100: 'd', 101: 'e', 102: 'f', 103: 'g', 104: 'h', 105: 'i', 106: 'j', 107: 'k', 108: 'l', 109: 'm', 110: 'n', 111: 'o', 112: 'p', 113: 'q', 114: 'r', 115: 's', 116: 't', 117: 'u', 118: 'v', 119: 'w', 120: 'x', 121: 'y', 122: 'z', 123: '{', 124: '|', 125: '}', 126: '~', 127: '\\x7f', 128: '\\x80', 129: '\\x81', 130: '\\x82', 131: '\\x83', 132: '\\x84', 133: '\\x85', 134: '\\x86', 135: '\\x87', 136: '\\x88', 137: '\\x89', 138: '\\x8a', 139: '\\x8b', 140: '\\x8c', 141: '\\x8d', 142: '\\x8e', 143: '\\x8f', 144: '\\x90', 145: '\\x91', 146: '\\x92', 147: '\\x93', 148: '\\x94', 149: '\\x95', 150: '\\x96', 151: '\\x97', 152: '\\x98', 153: '\\x99', 154: '\\x9a', 155: '\\x9b', 156: '\\x9c', 157: '\\x9d', 158: '\\x9e', 159: '\\x9f', 160: '\\xa0', 161: '¡', 162: '¢', 163: '£', 164: '¤', 165: '¥', 166: '¦', 167: '§', 168: '¨', 169: '©', 170: 'ª', 171: '«', 172: '¬', 173: '\\xad', 174: '®', 175: '¯', 176: '°', 177: '±', 178: '²', 179: '³', 180: '´', 181: 'µ', 182: '¶', 183: '·', 184: '¸', 185: '¹', 186: 'º', 187: '»', 188: '¼', 189: '½', 190: '¾', 191: '¿', 192: 'À', 193: 'Á', 194: 'Â', 195: 'Ã', 196: 'Ä', 197: 'Å', 198: 'Æ', 199: 'Ç', 200: 'È', 201: 'É', 202: 'Ê', 203: 'Ë', 204: 'Ì', 205: 'Í', 206: 'Î', 207: 'Ï', 208: 'Ð', 209: 'Ñ', 210: 'Ò', 211: 'Ó', 212: 'Ô', 213: 'Õ', 214: 'Ö', 215: '×', 216: 'Ø', 217: 'Ù', 218: 'Ú', 219: 'Û', 220: 'Ü', 221: 'Ý', 222: 'Þ', 223: 'ß', 224: 'à', 225: 'á', 226: 'â', 227: 'ã', 228: 'ä', 229: 'å', 230: 'æ', 231: 'ç', 232: 'è', 233: 'é', 234: 'ê', 235: 'ë', 236: 'ì', 237: 'í', 238: 'î', 239: 'ï', 240: 'ð', 241: 'ñ', 242: 'ò', 243: 'ó', 244: 'ô', 245: 'õ', 246: 'ö', 247: '÷', 248: 'ø', 249: 'ù', 250: 'ú', 251: 'û', 252: 'ü', 253: 'ý', 254: 'þ', 255: 'ÿ'}\n"
     ]
    }
   ],
   "source": [
    "print(vocab_ind, ind_vocab)"
   ]
  },
  {
   "cell_type": "code",
   "execution_count": 10,
   "metadata": {},
   "outputs": [],
   "source": [
    "def embedd(word):\n",
    "    x = torch.empty(6)\n",
    "    c = 0\n",
    "    word = word.upper() \n",
    "    word = word[:6]\n",
    "    for i in word:\n",
    "        x[c] = vocab_ind[i]\n",
    "        c += 1\n",
    "    x = x.type(torch.LongTensor)    \n",
    "    return x    "
   ]
  },
  {
   "cell_type": "code",
   "execution_count": 11,
   "metadata": {},
   "outputs": [],
   "source": [
    "import torch\n",
    "import torch.nn as nn\n",
    "from torch.autograd import Variable\n",
    "\n",
    "class RNN(nn.Module):\n",
    "    def __init__(self, input_size, hidden_size, output_size, n_layers=1):\n",
    "        super(RNN, self).__init__()\n",
    "        self.input_size = input_size\n",
    "        self.hidden_size = hidden_size\n",
    "        self.output_size = output_size\n",
    "        self.n_layers = n_layers\n",
    "        \n",
    "        self.encoder = nn.Embedding(input_size, hidden_size)\n",
    "        self.gru = nn.GRU(hidden_size, hidden_size, n_layers)\n",
    "        self.decoder = nn.Linear(hidden_size, output_size)\n",
    "    \n",
    "    def forward(self, input, hidden):\n",
    "        input = self.encoder(input.view(1, -1))\n",
    "        output, hidden = self.gru(input.view(1, 1, -1), hidden)\n",
    "        output = self.decoder(output.view(1, -1))\n",
    "        return output, hidden\n",
    "\n",
    "    def init_hidden(self):\n",
    "        return Variable(torch.zeros(self.n_layers, 1, self.hidden_size))\n",
    "        #return Variable(torch.randn(self.n_layers, 1, self.hidden_size))"
   ]
  },
  {
   "cell_type": "code",
   "execution_count": 12,
   "metadata": {},
   "outputs": [],
   "source": [
    "def trainRNN(inp, target):\n",
    "    hidden = decoder.init_hidden()\n",
    "    decoder.zero_grad()\n",
    "    loss = 0\n",
    "    chunk_len = 6\n",
    "    for c in range(chunk_len):\n",
    "        output, hidden = decoder(inp[c], hidden)\n",
    "        value, index = torch.max(output.data, 1)\n",
    "        loss += criterion(output, target[c].view((1)))\n",
    "    #print(loss)\n",
    "    loss.backward()\n",
    "    decoder_optimizer.step()\n",
    "\n",
    "    return loss.data[0] / chunk_len"
   ]
  },
  {
   "cell_type": "code",
   "execution_count": 13,
   "metadata": {},
   "outputs": [],
   "source": [
    "#model.eval()"
   ]
  },
  {
   "cell_type": "code",
   "execution_count": 14,
   "metadata": {
    "scrolled": true
   },
   "outputs": [
    {
     "name": "stdout",
     "output_type": "stream",
     "text": [
      "1\n"
     ]
    },
    {
     "name": "stderr",
     "output_type": "stream",
     "text": [
      "C:\\anaconda3\\envs\\cs682\\lib\\site-packages\\ipykernel_launcher.py:14: UserWarning: invalid index of a 0-dim tensor. This will be an error in PyTorch 0.5. Use tensor.item() to convert a 0-dim tensor to a Python number\n",
      "  \n"
     ]
    },
    {
     "name": "stdout",
     "output_type": "stream",
     "text": [
      "tensor(3349.6519)\n",
      "2\n",
      "tensor(2821.4497)\n",
      "3\n",
      "tensor(2645.9749)\n",
      "4\n",
      "tensor(2513.1350)\n",
      "5\n",
      "tensor(2403.3838)\n",
      "6\n",
      "tensor(2306.1963)\n",
      "7\n",
      "tensor(2218.0405)\n",
      "8\n",
      "tensor(2136.9102)\n",
      "9\n",
      "tensor(2060.4307)\n",
      "10\n",
      "tensor(1987.2524)\n",
      "11\n",
      "tensor(1922.0671)\n",
      "12\n",
      "tensor(1860.8345)\n",
      "13\n",
      "tensor(1802.6156)\n",
      "14\n",
      "tensor(1753.3983)\n",
      "15\n",
      "tensor(1703.7166)\n",
      "16\n",
      "tensor(1657.2273)\n",
      "17\n",
      "tensor(1614.9011)\n",
      "18\n",
      "tensor(1582.4821)\n",
      "19\n",
      "tensor(1543.2255)\n",
      "20\n",
      "tensor(1514.6936)\n",
      "21\n",
      "tensor(1480.6678)\n",
      "22\n",
      "tensor(1461.7809)\n",
      "23\n",
      "tensor(1433.4196)\n",
      "24\n",
      "tensor(1403.2604)\n",
      "25\n",
      "tensor(1387.5129)\n",
      "26\n",
      "tensor(1361.5361)\n",
      "27\n",
      "tensor(1351.8588)\n",
      "28\n",
      "tensor(1325.8966)\n",
      "29\n",
      "tensor(1310.0259)\n",
      "30\n",
      "tensor(1288.7798)\n",
      "31\n",
      "tensor(1282.2983)\n",
      "32\n",
      "tensor(1271.1376)\n",
      "33\n",
      "tensor(1255.4426)\n",
      "34\n",
      "tensor(1246.3207)\n",
      "35\n",
      "tensor(1235.8042)\n",
      "36\n",
      "tensor(1221.3060)\n",
      "37\n",
      "tensor(1219.2736)\n",
      "38\n",
      "tensor(1215.2432)\n",
      "39\n",
      "tensor(1212.6450)\n",
      "40\n",
      "tensor(1199.9084)\n",
      "41\n",
      "tensor(1192.4567)\n",
      "42\n",
      "tensor(1201.8262)\n",
      "43\n",
      "tensor(1186.5038)\n",
      "44\n",
      "tensor(1185.7316)\n",
      "45\n",
      "tensor(1176.5436)\n",
      "46\n",
      "tensor(1172.4677)\n",
      "47\n",
      "tensor(1168.7256)\n",
      "48\n",
      "tensor(1168.7227)\n",
      "49\n",
      "tensor(1157.9771)\n",
      "50\n",
      "tensor(1153.4514)\n",
      "51\n",
      "tensor(1155.3445)\n",
      "52\n",
      "tensor(1144.7303)\n",
      "53\n",
      "tensor(1148.0898)\n",
      "54\n",
      "tensor(1143.0907)\n",
      "55\n",
      "tensor(1150.5847)\n",
      "56\n",
      "tensor(1133.6605)\n",
      "57\n",
      "tensor(1134.4598)\n",
      "58\n",
      "tensor(1140.0767)\n",
      "59\n",
      "tensor(1122.6111)\n",
      "60\n",
      "tensor(1120.9858)\n",
      "61\n",
      "tensor(1126.2135)\n",
      "62\n",
      "tensor(1120.4105)\n",
      "63\n",
      "tensor(1127.1926)\n",
      "64\n",
      "tensor(1130.4821)\n",
      "65\n",
      "tensor(1124.4235)\n",
      "66\n",
      "tensor(1119.4457)\n",
      "67\n",
      "tensor(1118.9286)\n",
      "68\n",
      "tensor(1126.6293)\n",
      "69\n",
      "tensor(1111.5729)\n",
      "70\n",
      "tensor(1136.7465)\n",
      "71\n",
      "tensor(1129.1053)\n",
      "72\n",
      "tensor(1130.5000)\n",
      "73\n",
      "tensor(1153.8854)\n",
      "74\n",
      "tensor(1122.7020)\n",
      "75\n",
      "tensor(1123.6836)\n",
      "76\n",
      "tensor(1113.1377)\n",
      "77\n",
      "tensor(1127.8029)\n",
      "78\n",
      "tensor(1122.8698)\n",
      "79\n",
      "tensor(1115.1146)\n",
      "80\n",
      "tensor(1118.0283)\n",
      "81\n",
      "tensor(1112.5305)\n",
      "82\n",
      "tensor(1116.7269)\n",
      "83\n",
      "tensor(1110.6780)\n",
      "84\n",
      "tensor(1112.8781)\n",
      "85\n",
      "tensor(1111.1304)\n",
      "86\n",
      "tensor(1122.8434)\n",
      "87\n",
      "tensor(1110.6633)\n",
      "88\n",
      "tensor(1109.0809)\n",
      "89\n",
      "tensor(1106.9166)\n",
      "90\n",
      "tensor(1104.0543)\n",
      "91\n",
      "tensor(1097.2987)\n",
      "92\n",
      "tensor(1103.8760)\n",
      "93\n",
      "tensor(1096.4882)\n",
      "94\n",
      "tensor(1095.3262)\n",
      "95\n",
      "tensor(1091.8749)\n",
      "96\n",
      "tensor(1099.9962)\n",
      "97\n",
      "tensor(1101.0762)\n",
      "98\n",
      "tensor(1090.9344)\n",
      "99\n",
      "tensor(1086.1405)\n",
      "100\n",
      "tensor(1090.4078)\n"
     ]
    }
   ],
   "source": [
    "n_epochs = 100\n",
    "print_every = 100\n",
    "plot_every = 100\n",
    "hidden_size = 100\n",
    "n_layers = 1\n",
    "lr = 0.001\n",
    "n_characters = 256\n",
    "\n",
    "decoder = RNN(n_characters, hidden_size, n_characters, n_layers)\n",
    "for param in decoder.parameters():\n",
    "    param.requires_grad = True\n",
    "decoder_optimizer = torch.optim.Adam(decoder.parameters(), lr=lr)\n",
    "criterion = nn.CrossEntropyLoss()\n",
    "\n",
    "start = time.time()\n",
    "all_losses = []\n",
    "loss_avg = 0\n",
    "\n",
    "for epoch in range(1, n_epochs + 1):\n",
    "    print(epoch)\n",
    "    loss_avg = 0\n",
    "    for  i in range(0,len(data),6):\n",
    "        emb_data = embedd(data[i:i+6])\n",
    "        emb_out = embedd(data[i+1:i+7])\n",
    "        cap_in = emb_data\n",
    "        cap_out = emb_out\n",
    "        #print(cap_in)\n",
    "        #print(cap_out)\n",
    "\n",
    "        loss = trainRNN(cap_in, cap_out)       \n",
    "        loss_avg += loss\n",
    "\n",
    "#         if epoch % print_every == 0:\n",
    "#             print('[%s (%d %d%%) %.4f]' % (time_since(start), epoch, epoch / n_epochs * 100, loss))\n",
    "#             print(evaluate('Wh', 100), '\\n')\n",
    "\n",
    "#         if epoch % plot_every == 0:\n",
    "#             all_losses.append(loss_avg / plot_every)\n",
    "#             loss_avg = 0\n",
    "    print(loss_avg)"
   ]
  },
  {
   "cell_type": "code",
   "execution_count": 15,
   "metadata": {},
   "outputs": [],
   "source": [
    "def evaluate(inp):\n",
    "    hidden = decoder.init_hidden()\n",
    "    chunk_len = 6\n",
    "    predicted = torch.zeros([chunk_len])\n",
    "    for c in range(chunk_len):\n",
    "        output, hidden = decoder(inp[c], hidden)\n",
    "        value, index = torch.max(output.data, 1)\n",
    "        predicted[c] = index\n",
    "    return predicted"
   ]
  },
  {
   "cell_type": "code",
   "execution_count": 18,
   "metadata": {},
   "outputs": [
    {
     "name": "stdout",
     "output_type": "stream",
     "text": [
      "taccindcion,t\u0000xxxx"
     ]
    }
   ],
   "source": [
    "for param in decoder.parameters():\n",
    "    param.requires_grad = False\n",
    "test_data = ' vaccination '\n",
    "for  i in range(0,len(test_data),6):\n",
    "        #outputs = m(images)\n",
    "        #_, prediction = torch.max(outputs.data, 1)\n",
    "        #print(\"CNN\")\n",
    "        #print(prediction)\n",
    "        #space = torch.tensor([28])\n",
    "        #space.type(torch.LongTensor)\n",
    "        #cap_in = torch.cat((space,prediction)) \n",
    "        cap_in = test_data[i:i+6]\n",
    "        emb_cap_in = embedd(cap_in)\n",
    "        #print(emb_cap_in)\n",
    "        p = evaluate(emb_cap_in)\n",
    "        #print(\"RNN\")\n",
    "        for i in range(6):\n",
    "            print(ind_vocab[int(p[i])].lower(), end = \"\")"
   ]
  },
  {
   "cell_type": "code",
   "execution_count": null,
   "metadata": {},
   "outputs": [],
   "source": []
  }
 ],
 "metadata": {
  "kernelspec": {
   "display_name": "Python 3",
   "language": "python",
   "name": "python3"
  },
  "language_info": {
   "codemirror_mode": {
    "name": "ipython",
    "version": 3
   },
   "file_extension": ".py",
   "mimetype": "text/x-python",
   "name": "python",
   "nbconvert_exporter": "python",
   "pygments_lexer": "ipython3",
   "version": "3.6.5"
  }
 },
 "nbformat": 4,
 "nbformat_minor": 2
}
